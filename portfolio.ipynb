{
 "cells": [
  {
   "cell_type": "code",
   "execution_count": 1,
   "id": "3eeeecb4",
   "metadata": {},
   "outputs": [],
   "source": [
    "import pandas as pd\n",
    "import numpy as np\n",
    "import datetime as dt\n",
    "from pathlib import Path\n",
    "import seaborn as sns\n",
    "\n",
    "%matplotlib inline"
   ]
  },
  {
   "cell_type": "code",
   "execution_count": 3,
   "id": "efc38271",
   "metadata": {},
   "outputs": [],
   "source": [
    "# Import CSV file of ETFs\n",
    "\n",
    "etf_df = pd.read_csv('ETF prices.csv', parse_dates=True, infer_datetime_format=True)"
   ]
  },
  {
   "cell_type": "code",
   "execution_count": 4,
   "id": "c56b3b8b",
   "metadata": {},
   "outputs": [],
   "source": [
    "# Drop unneeded columns from DataFrame\n",
    "\n",
    "etf_df.drop(columns=['open', 'high', 'low', 'close', 'volume'], inplace=True)"
   ]
  },
  {
   "cell_type": "code",
   "execution_count": 5,
   "id": "8624b67a",
   "metadata": {},
   "outputs": [],
   "source": [
    "# Create dataframe table with data starting from 2016\n",
    "\n",
    "etf_2016 = etf_df.loc[etf_df['price_date'] >= \"2016\"]"
   ]
  },
  {
   "cell_type": "code",
   "execution_count": 7,
   "id": "488690b1",
   "metadata": {},
   "outputs": [],
   "source": [
    "# Create pivot table that displays the prices of each ETF by date\n",
    "\n",
    "etf_pivot = etf_2016.pivot_table(index = [\"price_date\"], columns = \"fund_symbol\", values = \"adj_close\")"
   ]
  },
  {
   "cell_type": "code",
   "execution_count": 10,
   "id": "6ca1819a",
   "metadata": {},
   "outputs": [],
   "source": [
    "# Remove ETFs that don't have a full data sample over entire 5-year period\n",
    "\n",
    "etf_pivot_df = etf_pivot.dropna(axis='columns')"
   ]
  },
  {
   "cell_type": "code",
   "execution_count": 12,
   "id": "4f89ae35",
   "metadata": {},
   "outputs": [],
   "source": [
    "#Find the daily returns of each ETF\n",
    "\n",
    "etf_returns = etf_pivot_df.pct_change().dropna()"
   ]
  },
  {
   "cell_type": "code",
   "execution_count": 72,
   "id": "c7fd070b",
   "metadata": {},
   "outputs": [],
   "source": [
    "# Import CSV file of 10-year Treasury rates data\n",
    "\n",
    "tnx_df = pd.read_csv(\"^TNX.csv\", parse_dates=True, infer_datetime_format=True)"
   ]
  },
  {
   "cell_type": "code",
   "execution_count": 76,
   "id": "fba79960",
   "metadata": {},
   "outputs": [],
   "source": [
    "# Set df index\n",
    "\n",
    "tnx_index = tnx_df.set_index(\"Date\")"
   ]
  },
  {
   "cell_type": "code",
   "execution_count": 81,
   "id": "f4f950f1",
   "metadata": {},
   "outputs": [],
   "source": [
    "# Drop irrelevant columns\n",
    "\n",
    "tnx_index.drop(columns=['Open', \"High\", \"Low\", \"Close\", \"Volume\"], inplace=True)"
   ]
  },
  {
   "cell_type": "code",
   "execution_count": 82,
   "id": "1f4c1efc",
   "metadata": {},
   "outputs": [],
   "source": [
    "# Drop Null Values\n",
    "\n",
    "tnx_df.dropna(inplace=True)"
   ]
  },
  {
   "cell_type": "code",
   "execution_count": 83,
   "id": "e28ab2ba",
   "metadata": {},
   "outputs": [],
   "source": [
    "# Concatenate TNX df with ETF df\n",
    "\n",
    "tnx_etf = pd.concat([tnx_index, etf_pivot_df], join = \"inner\", axis = 1)"
   ]
  },
  {
   "cell_type": "code",
   "execution_count": 86,
   "id": "563ad44e",
   "metadata": {},
   "outputs": [],
   "source": [
    "# Rename TNX column\n",
    "\n",
    "tnx_etf.rename(columns={\"Adj Close\" : \"TNX\"}, inplace=True)"
   ]
  },
  {
   "cell_type": "code",
   "execution_count": 90,
   "id": "25ffea92",
   "metadata": {},
   "outputs": [],
   "source": [
    "# Find daily returns of Dataframe and drop null values\n",
    "\n",
    "tnx_etf_returns = tnx_etf.pct_change().dropna()"
   ]
  },
  {
   "cell_type": "code",
   "execution_count": 98,
   "id": "32a2967a",
   "metadata": {},
   "outputs": [],
   "source": [
    "# Find sharpe ratio of each ETF\n",
    "\n",
    "sharpe_ratio = ((tnx_etf_returns.mean()-tnx_etf_returns['TNX'].mean()) * 252)/(tnx_etf_returns.std() * np.sqrt(252))"
   ]
  },
  {
   "cell_type": "code",
   "execution_count": null,
   "id": "3bdb7d21",
   "metadata": {},
   "outputs": [],
   "source": []
  },
  {
   "cell_type": "code",
   "execution_count": null,
   "id": "d4bd0d22",
   "metadata": {},
   "outputs": [],
   "source": []
  },
  {
   "cell_type": "code",
   "execution_count": null,
   "id": "f405d952",
   "metadata": {},
   "outputs": [],
   "source": []
  },
  {
   "cell_type": "code",
   "execution_count": 108,
   "id": "07a51d32",
   "metadata": {},
   "outputs": [],
   "source": [
    "# Import ETF CSV\n",
    "\n",
    "etf_desc = pd.read_csv(\"ETFs.csv\")"
   ]
  },
  {
   "cell_type": "code",
   "execution_count": 110,
   "id": "253d50cb",
   "metadata": {},
   "outputs": [],
   "source": [
    "# Match etfs with etfs that contain 5 years of data\n",
    "\n",
    "etf_matched = etf_desc[etf_desc.fund_symbol.isin(tnx_etf_returns.columns)]"
   ]
  },
  {
   "cell_type": "code",
   "execution_count": 164,
   "id": "7a917546",
   "metadata": {},
   "outputs": [],
   "source": [
    "# Drop leveraged ETFs\n",
    "\n",
    "dropped = etf_matched[etf_matched[\"fund_category\"].str.contains(\"Leveraged\")==False]"
   ]
  },
  {
   "cell_type": "code",
   "execution_count": 169,
   "id": "fa601cd5",
   "metadata": {},
   "outputs": [],
   "source": [
    "# Drop Ultrashort ETFs\n",
    "\n",
    "ultra_etf = dropped[dropped['fund_category'].str.contains(\"Ultrashort\")==False]"
   ]
  },
  {
   "cell_type": "code",
   "execution_count": null,
   "id": "05efd394",
   "metadata": {},
   "outputs": [],
   "source": []
  },
  {
   "cell_type": "code",
   "execution_count": 189,
   "id": "42a47074",
   "metadata": {
    "scrolled": true
   },
   "outputs": [],
   "source": [
    "# Drop Inverse ETFs and Display total ETF selection\n",
    "\n",
    "final_etf = ultra_etf[ultra_etf['fund_category'].str.contains(\"Inverse\")==False]"
   ]
  },
  {
   "cell_type": "code",
   "execution_count": 195,
   "id": "cf99bd60",
   "metadata": {},
   "outputs": [],
   "source": [
    "# Factor out Bond ETFs from Equity ETFs\n",
    "\n",
    "bond_etfs = final_etf[final_etf.fund_category.str.contains('Bond', na=False)]"
   ]
  },
  {
   "cell_type": "code",
   "execution_count": 203,
   "id": "bdd4b757",
   "metadata": {},
   "outputs": [],
   "source": [
    "# Factor out Equity ETFs from Bond ETFs\n",
    "\n",
    "equity_etfs = final_etf[final_etf[\"fund_category\"].str.contains('Bond')==False]"
   ]
  },
  {
   "cell_type": "code",
   "execution_count": 400,
   "id": "4e5c48d6",
   "metadata": {},
   "outputs": [],
   "source": [
    "# Create column that returns a bool for real estate\n",
    "\n",
    "real_estate = equity_etfs[\"fund_category\"] == \"Real Estate\""
   ]
  },
  {
   "cell_type": "code",
   "execution_count": 514,
   "id": "8b3699b1",
   "metadata": {
    "collapsed": true
   },
   "outputs": [
    {
     "name": "stderr",
     "output_type": "stream",
     "text": [
      "/var/folders/xf/5gg0rlzs2xlbl_dwfhdrq43h0000gn/T/ipykernel_11455/2214581544.py:3: SettingWithCopyWarning: \n",
      "A value is trying to be set on a copy of a slice from a DataFrame.\n",
      "Try using .loc[row_indexer,col_indexer] = value instead\n",
      "\n",
      "See the caveats in the documentation: https://pandas.pydata.org/pandas-docs/stable/user_guide/indexing.html#returning-a-view-versus-a-copy\n",
      "  equity_etfs[\"Real Estate\"] = real_estate\n"
     ]
    }
   ],
   "source": [
    "# Add real estate column to df\n",
    "\n",
    "equity_etfs[\"Real Estate\"] = real_estate"
   ]
  },
  {
   "cell_type": "code",
   "execution_count": null,
   "id": "7492c16d",
   "metadata": {},
   "outputs": [],
   "source": []
  },
  {
   "cell_type": "code",
   "execution_count": null,
   "id": "734f4210",
   "metadata": {},
   "outputs": [],
   "source": []
  },
  {
   "cell_type": "code",
   "execution_count": 251,
   "id": "f50e8c94",
   "metadata": {},
   "outputs": [],
   "source": [
    "# Factor out Foreign from Domestic Equities\n",
    "\n",
    "foreign_equity = equity_etfs[(equity_etfs.fund_category.str.contains('Foreign') | (equity_etfs.fund_category.str.contains('Pacific/Asia ex-Japan Stk'))| (equity_etfs.fund_category.str.contains('Emerging'))\n",
    "            | (equity_etfs.fund_category.str.contains('China')) | (equity_etfs.fund_category.str.contains('Latin')) | (equity_etfs.fund_category.str.contains('Europe')) | (equity_etfs.fund_category.str.contains('Japan')) |\n",
    "                             (equity_etfs.fund_category.str.contains('India'))]"
   ]
  },
  {
   "cell_type": "code",
   "execution_count": 254,
   "id": "bc7379f6",
   "metadata": {},
   "outputs": [],
   "source": [
    "# Factor out Real Estate ETFs\n",
    "\n",
    "real_estate_etfs = equity_etfs[equity_etfs.fund_category.str.contains(\"Real Estate\")]"
   ]
  },
  {
   "cell_type": "code",
   "execution_count": null,
   "id": "c3d2f5e7",
   "metadata": {},
   "outputs": [],
   "source": []
  },
  {
   "cell_type": "code",
   "execution_count": 431,
   "id": "e71aee1e",
   "metadata": {},
   "outputs": [],
   "source": [
    "# Filter equities by betas\n",
    "\n",
    "equity_beta = equity_etfs[['fund_symbol', 'fund_beta_5years', 'fund_sharpe_ratio_5years']]"
   ]
  },
  {
   "cell_type": "code",
   "execution_count": 432,
   "id": "83b25ce3",
   "metadata": {},
   "outputs": [],
   "source": [
    "# Filter out highly negative betas\n",
    "\n",
    "equity_etf_beta = equity_beta[equity_beta.fund_beta_5years > -4]"
   ]
  },
  {
   "cell_type": "code",
   "execution_count": 433,
   "id": "4ad68e57",
   "metadata": {},
   "outputs": [
    {
     "data": {
      "text/html": [
       "<div>\n",
       "<style scoped>\n",
       "    .dataframe tbody tr th:only-of-type {\n",
       "        vertical-align: middle;\n",
       "    }\n",
       "\n",
       "    .dataframe tbody tr th {\n",
       "        vertical-align: top;\n",
       "    }\n",
       "\n",
       "    .dataframe thead th {\n",
       "        text-align: right;\n",
       "    }\n",
       "</style>\n",
       "<table border=\"1\" class=\"dataframe\">\n",
       "  <thead>\n",
       "    <tr style=\"text-align: right;\">\n",
       "      <th></th>\n",
       "      <th>fund_symbol</th>\n",
       "      <th>fund_beta_5years</th>\n",
       "      <th>fund_sharpe_ratio_5years</th>\n",
       "    </tr>\n",
       "  </thead>\n",
       "  <tbody>\n",
       "    <tr>\n",
       "      <th>1</th>\n",
       "      <td>AADR</td>\n",
       "      <td>1.11</td>\n",
       "      <td>0.62</td>\n",
       "    </tr>\n",
       "    <tr>\n",
       "      <th>2</th>\n",
       "      <td>AAXJ</td>\n",
       "      <td>0.94</td>\n",
       "      <td>0.66</td>\n",
       "    </tr>\n",
       "    <tr>\n",
       "      <th>10</th>\n",
       "      <td>ACWX</td>\n",
       "      <td>1.00</td>\n",
       "      <td>0.70</td>\n",
       "    </tr>\n",
       "    <tr>\n",
       "      <th>13</th>\n",
       "      <td>ADRE</td>\n",
       "      <td>1.10</td>\n",
       "      <td>0.57</td>\n",
       "    </tr>\n",
       "    <tr>\n",
       "      <th>17</th>\n",
       "      <td>AFK</td>\n",
       "      <td>1.19</td>\n",
       "      <td>0.28</td>\n",
       "    </tr>\n",
       "    <tr>\n",
       "      <th>...</th>\n",
       "      <td>...</td>\n",
       "      <td>...</td>\n",
       "      <td>...</td>\n",
       "    </tr>\n",
       "    <tr>\n",
       "      <th>2305</th>\n",
       "      <td>EPP</td>\n",
       "      <td>1.07</td>\n",
       "      <td>0.48</td>\n",
       "    </tr>\n",
       "    <tr>\n",
       "      <th>2306</th>\n",
       "      <td>ERUS</td>\n",
       "      <td>1.19</td>\n",
       "      <td>0.70</td>\n",
       "    </tr>\n",
       "    <tr>\n",
       "      <th>2307</th>\n",
       "      <td>EWA</td>\n",
       "      <td>1.16</td>\n",
       "      <td>0.48</td>\n",
       "    </tr>\n",
       "    <tr>\n",
       "      <th>2308</th>\n",
       "      <td>EWC</td>\n",
       "      <td>1.10</td>\n",
       "      <td>0.61</td>\n",
       "    </tr>\n",
       "    <tr>\n",
       "      <th>2309</th>\n",
       "      <td>EWD</td>\n",
       "      <td>1.11</td>\n",
       "      <td>0.81</td>\n",
       "    </tr>\n",
       "  </tbody>\n",
       "</table>\n",
       "<p>713 rows × 3 columns</p>\n",
       "</div>"
      ],
      "text/plain": [
       "     fund_symbol  fund_beta_5years  fund_sharpe_ratio_5years\n",
       "1           AADR              1.11                      0.62\n",
       "2           AAXJ              0.94                      0.66\n",
       "10          ACWX              1.00                      0.70\n",
       "13          ADRE              1.10                      0.57\n",
       "17           AFK              1.19                      0.28\n",
       "...          ...               ...                       ...\n",
       "2305         EPP              1.07                      0.48\n",
       "2306        ERUS              1.19                      0.70\n",
       "2307         EWA              1.16                      0.48\n",
       "2308         EWC              1.10                      0.61\n",
       "2309         EWD              1.11                      0.81\n",
       "\n",
       "[713 rows x 3 columns]"
      ]
     },
     "execution_count": 433,
     "metadata": {},
     "output_type": "execute_result"
    }
   ],
   "source": [
    "equity_beta"
   ]
  },
  {
   "cell_type": "code",
   "execution_count": 434,
   "id": "7df86f40",
   "metadata": {},
   "outputs": [],
   "source": [
    "# Create df of lower beta ETFs\n",
    "\n",
    "low_beta = equity_beta[(equity_beta.fund_beta_5years > 0) & (equity_beta.fund_beta_5years < 0.5)]"
   ]
  },
  {
   "cell_type": "code",
   "execution_count": 435,
   "id": "37c8b976",
   "metadata": {},
   "outputs": [],
   "source": [
    "# Create df of low to medium beta ETFs\n",
    "\n",
    "low_medium_beta = equity_beta[(equity_beta.fund_beta_5years > 0.51) & (equity_beta.fund_beta_5years < 1.00)]"
   ]
  },
  {
   "cell_type": "code",
   "execution_count": 436,
   "id": "3c85a33e",
   "metadata": {},
   "outputs": [],
   "source": [
    "# Create df of medium level beta ETFs\n",
    "\n",
    "medium_beta = equity_beta[(equity_beta.fund_beta_5years > 1.001) & (equity_beta.fund_beta_5years < 1.5)]"
   ]
  },
  {
   "cell_type": "code",
   "execution_count": 437,
   "id": "2418ef25",
   "metadata": {},
   "outputs": [],
   "source": [
    "# Create df of medium to high ETFs\n",
    "\n",
    "high_medium_beta = equity_beta[(equity_beta.fund_beta_5years > 1.25) & (equity_beta.fund_beta_5years < 1.75)]"
   ]
  },
  {
   "cell_type": "code",
   "execution_count": 438,
   "id": "8d748917",
   "metadata": {},
   "outputs": [],
   "source": [
    "# Create df of high beta ETFs\n",
    "\n",
    "high_beta = equity_beta[(equity_beta.fund_beta_5years > 1.76) & (equity_beta.fund_beta_5years < 5)]"
   ]
  },
  {
   "cell_type": "code",
   "execution_count": null,
   "id": "c16f5141",
   "metadata": {},
   "outputs": [],
   "source": []
  },
  {
   "cell_type": "code",
   "execution_count": 333,
   "id": "7b74c28f",
   "metadata": {},
   "outputs": [],
   "source": [
    "# Risk Tolerances (by basket)\n",
    "\n",
    "1 - 40%, 30%, 20%, 5%, 5%\n",
    "2 - 20%, 40%, 20%, 10%, 10%\n",
    "3 - 10%, 20%, 40%, 20%, 10%\n",
    "4 - 10%, 10%, 20%, 40%, 20%\n",
    "5 - 5%, 5%, 20%, 30%, 40%"
   ]
  },
  {
   "cell_type": "code",
   "execution_count": null,
   "id": "e737e91d",
   "metadata": {},
   "outputs": [],
   "source": []
  },
  {
   "cell_type": "code",
   "execution_count": null,
   "id": "47bf4ef2",
   "metadata": {},
   "outputs": [],
   "source": []
  },
  {
   "cell_type": "code",
   "execution_count": 373,
   "id": "0d181192",
   "metadata": {},
   "outputs": [],
   "source": [
    "# Find bond investment grade qualities\n",
    "\n",
    "bond_quality = bond_etfs[['fund_symbol', 'fund_bonds_aaa', 'fund_bonds_aa', 'fund_bonds_a', 'fund_bonds_bbb', \n",
    "          'fund_bonds_bb', 'fund_bonds_b', 'fund_bonds_below_b']]"
   ]
  },
  {
   "cell_type": "code",
   "execution_count": 378,
   "id": "6ad7b975",
   "metadata": {},
   "outputs": [],
   "source": [
    "# Drop NaN's\n",
    "\n",
    "bond_quality = bond_quality.dropna()"
   ]
  },
  {
   "cell_type": "code",
   "execution_count": 363,
   "id": "f8512915",
   "metadata": {},
   "outputs": [],
   "source": [
    "# Find what percent of bond ETFs are investment grade\n",
    "\n",
    "investment_percent = bond_quality['fund_bonds_aaa'] + bond_quality['fund_bonds_aa'] + bond_quality['fund_bonds_a']"
   ]
  },
  {
   "cell_type": "code",
   "execution_count": 387,
   "id": "c4596cfe",
   "metadata": {},
   "outputs": [],
   "source": [
    "# Find what percent of bond ETFs are mid-investment grade\n",
    "\n",
    "mid_investment = bond_quality['fund_bonds_bbb'] "
   ]
  },
  {
   "cell_type": "code",
   "execution_count": 388,
   "id": "4be87482",
   "metadata": {},
   "outputs": [],
   "source": [
    "# Find what percent of bond ETFs are non-investment grade\n",
    "\n",
    "noninvest_percent = bond_quality['fund_bonds_bb'] + bond_quality['fund_bonds_b']"
   ]
  },
  {
   "cell_type": "code",
   "execution_count": 389,
   "id": "863df6b9",
   "metadata": {
    "collapsed": true
   },
   "outputs": [
    {
     "name": "stderr",
     "output_type": "stream",
     "text": [
      "/var/folders/xf/5gg0rlzs2xlbl_dwfhdrq43h0000gn/T/ipykernel_11455/3901423594.py:3: SettingWithCopyWarning: \n",
      "A value is trying to be set on a copy of a slice from a DataFrame.\n",
      "Try using .loc[row_indexer,col_indexer] = value instead\n",
      "\n",
      "See the caveats in the documentation: https://pandas.pydata.org/pandas-docs/stable/user_guide/indexing.html#returning-a-view-versus-a-copy\n",
      "  bond_quality[\"Investment Grade Percent\"] = investment_percent\n"
     ]
    }
   ],
   "source": [
    "# Add column to df\n",
    "\n",
    "bond_quality[\"Investment Grade Percent\"] = investment_percent"
   ]
  },
  {
   "cell_type": "code",
   "execution_count": 392,
   "id": "1f93961e",
   "metadata": {
    "collapsed": true
   },
   "outputs": [
    {
     "name": "stderr",
     "output_type": "stream",
     "text": [
      "/var/folders/xf/5gg0rlzs2xlbl_dwfhdrq43h0000gn/T/ipykernel_11455/2863926551.py:1: SettingWithCopyWarning: \n",
      "A value is trying to be set on a copy of a slice from a DataFrame.\n",
      "Try using .loc[row_indexer,col_indexer] = value instead\n",
      "\n",
      "See the caveats in the documentation: https://pandas.pydata.org/pandas-docs/stable/user_guide/indexing.html#returning-a-view-versus-a-copy\n",
      "  bond_quality['Mid Investment Grade'] = mid_investment\n"
     ]
    }
   ],
   "source": [
    "bond_quality['Mid Investment Grade'] = mid_investment"
   ]
  },
  {
   "cell_type": "code",
   "execution_count": 390,
   "id": "a80deb1a",
   "metadata": {
    "collapsed": true
   },
   "outputs": [
    {
     "name": "stderr",
     "output_type": "stream",
     "text": [
      "/var/folders/xf/5gg0rlzs2xlbl_dwfhdrq43h0000gn/T/ipykernel_11455/1515454792.py:3: SettingWithCopyWarning: \n",
      "A value is trying to be set on a copy of a slice from a DataFrame.\n",
      "Try using .loc[row_indexer,col_indexer] = value instead\n",
      "\n",
      "See the caveats in the documentation: https://pandas.pydata.org/pandas-docs/stable/user_guide/indexing.html#returning-a-view-versus-a-copy\n",
      "  bond_quality[\"Non-Invest Grade Percent\"] = noninvest_percent\n"
     ]
    }
   ],
   "source": [
    "# Add column to df\n",
    "\n",
    "bond_quality[\"Non-Invest Grade Percent\"] = noninvest_percent"
   ]
  },
  {
   "cell_type": "code",
   "execution_count": null,
   "id": "21f26131",
   "metadata": {},
   "outputs": [],
   "source": []
  },
  {
   "cell_type": "code",
   "execution_count": 411,
   "id": "83bec294",
   "metadata": {},
   "outputs": [],
   "source": [
    "# Create a basket of low-risk bonds\n",
    "\n",
    "low_risk_bonds = bond_quality[bond_quality[\"Investment Grade Percent\"] > .75]"
   ]
  },
  {
   "cell_type": "code",
   "execution_count": 415,
   "id": "1815d13c",
   "metadata": {},
   "outputs": [],
   "source": [
    "# Create a basket of high-risk bonds\n",
    "\n",
    "high_risk_bonds = bond_quality[bond_quality[\"Non-Invest Grade Percent\"] > .75]"
   ]
  },
  {
   "cell_type": "code",
   "execution_count": 424,
   "id": "6e36fbad",
   "metadata": {},
   "outputs": [],
   "source": [
    "# Create a basket of medium-risk bonds\n",
    "\n",
    "mid_risk_bonds = bond_quality[(bond_quality[\"Investment Grade Percent\"] < 0.75) & \n",
    "                              (bond_quality[\"Investment Grade Percent\"] > 0.45)]"
   ]
  },
  {
   "cell_type": "code",
   "execution_count": null,
   "id": "73f0fc4e",
   "metadata": {},
   "outputs": [],
   "source": []
  },
  {
   "cell_type": "code",
   "execution_count": null,
   "id": "94d8e06a",
   "metadata": {},
   "outputs": [],
   "source": [
    "# Bond allocation - low, mid, high\n",
    "\n",
    "low tolerance = 85%, 10%, 5%\n",
    "medium tolerance = 75%, 15%, 10%\n",
    "high tolerance = 65%, 20%, 15%\n"
   ]
  },
  {
   "cell_type": "code",
   "execution_count": null,
   "id": "9ca5df15",
   "metadata": {},
   "outputs": [],
   "source": []
  },
  {
   "cell_type": "code",
   "execution_count": null,
   "id": "61d72898",
   "metadata": {},
   "outputs": [],
   "source": []
  },
  {
   "cell_type": "code",
   "execution_count": null,
   "id": "2337be66",
   "metadata": {},
   "outputs": [],
   "source": [
    "# Baskets\n",
    "low_beta\n",
    "low_medium_beta\n",
    "medium_beta\n",
    "high_medium_beta\n",
    "high_beta\n",
    "\n",
    "real_estate_etfs\n",
    "foreign_equity\n",
    "\n",
    "low_risk_bonds\n",
    "mid_risk_bonds\n",
    "high_risk_bonds"
   ]
  },
  {
   "cell_type": "code",
   "execution_count": null,
   "id": "9dff6ff3",
   "metadata": {},
   "outputs": [],
   "source": []
  },
  {
   "cell_type": "code",
   "execution_count": 474,
   "id": "c6cbc58c",
   "metadata": {},
   "outputs": [],
   "source": [
    "# Create etf basket for lowest risk\n",
    "\n",
    "low_beta_equity_basket = low_beta.sort_values(by='fund_sharpe_ratio_5years', ascending=False).head(10)"
   ]
  },
  {
   "cell_type": "code",
   "execution_count": 475,
   "id": "2fa91cc4",
   "metadata": {},
   "outputs": [],
   "source": [
    "# Create etf basket for low risk\n",
    "\n",
    "low_medium_beta_equity_basket = low_medium_beta.sort_values(by='fund_sharpe_ratio_5years', ascending=False).head(10)"
   ]
  },
  {
   "cell_type": "code",
   "execution_count": 476,
   "id": "1a24f93d",
   "metadata": {},
   "outputs": [],
   "source": [
    "# Create etf basket for medium risk\n",
    "\n",
    "medium_beta_equity_basket = medium_beta.sort_values(by='fund_sharpe_ratio_5years', ascending=False).head(11).dropna()"
   ]
  },
  {
   "cell_type": "code",
   "execution_count": 477,
   "id": "3f2ca9a9",
   "metadata": {},
   "outputs": [],
   "source": [
    "# Create etf basket for high risk\n",
    "\n",
    "high_medium_beta_equity_basket = high_medium_beta.sort_values(by='fund_sharpe_ratio_5years', ascending=False).head(11).dropna()"
   ]
  },
  {
   "cell_type": "code",
   "execution_count": 478,
   "id": "f7894a88",
   "metadata": {},
   "outputs": [],
   "source": [
    "# Create etf basket for highest risk\n",
    "\n",
    "high_beta_equity_basket = high_beta.sort_values(by='fund_sharpe_ratio_5years', ascending=False).head(10)"
   ]
  },
  {
   "cell_type": "code",
   "execution_count": null,
   "id": "ca3964ac",
   "metadata": {},
   "outputs": [],
   "source": []
  },
  {
   "cell_type": "code",
   "execution_count": 496,
   "id": "b0fe2d70",
   "metadata": {},
   "outputs": [],
   "source": [
    "# Create real estate basket\n",
    "\n",
    "real_estate_basket = real_estate_etfs[['fund_symbol' , \"fund_sharpe_ratio_5years\"]].sort_values(by='fund_sharpe_ratio_5years', \n",
    "                                                                                                ascending=False).head(7)"
   ]
  },
  {
   "cell_type": "code",
   "execution_count": 497,
   "id": "6c9bdb8e",
   "metadata": {},
   "outputs": [],
   "source": [
    "# Create foreign equity etf basket\n",
    "\n",
    "foreign_equity_basket = foreign_equity[['fund_symbol' , \"fund_sharpe_ratio_5years\"]].sort_values(by='fund_sharpe_ratio_5years', \n",
    "                                                                                                 ascending=False).head(15)"
   ]
  },
  {
   "cell_type": "code",
   "execution_count": null,
   "id": "4c25c15d",
   "metadata": {},
   "outputs": [],
   "source": []
  },
  {
   "cell_type": "code",
   "execution_count": null,
   "id": "a6a0bfc2",
   "metadata": {},
   "outputs": [],
   "source": []
  },
  {
   "cell_type": "code",
   "execution_count": null,
   "id": "4a9e1fa1",
   "metadata": {},
   "outputs": [],
   "source": []
  }
 ],
 "metadata": {
  "kernelspec": {
   "display_name": "Python 3 (ipykernel)",
   "language": "python",
   "name": "python3"
  },
  "language_info": {
   "codemirror_mode": {
    "name": "ipython",
    "version": 3
   },
   "file_extension": ".py",
   "mimetype": "text/x-python",
   "name": "python",
   "nbconvert_exporter": "python",
   "pygments_lexer": "ipython3",
   "version": "3.9.12"
  }
 },
 "nbformat": 4,
 "nbformat_minor": 5
}
