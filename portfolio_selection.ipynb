{
 "cells": [
  {
   "cell_type": "code",
   "execution_count": 4,
   "id": "f17d3efd-51a9-4158-9f55-64c549fcd229",
   "metadata": {},
   "outputs": [],
   "source": [
    "# age (18 - 99)\n",
    "# risk tolerance (0-5)\n",
    "# Emerging tolerance (False/True)\n",
    "# Environmental, Social, and Governance (ESG) (False/True)\n",
    "# International markets (False/True)\n",
    "# REITs (False/True)\n",
    "# Crypto (False/True)\n",
    "# Scared of market crash (False/True)\n",
    "\n",
    "age = 28\n",
    "risk_tolerance = 5\n",
    "emerging_markets = False\n",
    "esg = True\n",
    "international = True"
   ]
  },
  {
   "cell_type": "code",
   "execution_count": 8,
   "id": "f694863f-6914-45e5-ae48-d1e85e48852c",
   "metadata": {},
   "outputs": [
    {
     "data": {
      "text/plain": [
       "0.1"
      ]
     },
     "execution_count": 8,
     "metadata": {},
     "output_type": "execute_result"
    }
   ],
   "source": [
    "# Bond Allocation\n",
    "bond_etf_allocation = (10 * (5 - risk_tolerance) + (age - 18)) / 100\n",
    "bond_etf_allocation"
   ]
  },
  {
   "cell_type": "code",
   "execution_count": 6,
   "id": "b74c8ea7-ec97-43fe-aa22-7f07f8266ec2",
   "metadata": {},
   "outputs": [
    {
     "data": {
      "text/plain": [
       "10"
      ]
     },
     "execution_count": 6,
     "metadata": {},
     "output_type": "execute_result"
    }
   ],
   "source": []
  },
  {
   "cell_type": "code",
   "execution_count": null,
   "id": "03021bd9-b84c-4d88-ae9b-cbf85461bafb",
   "metadata": {},
   "outputs": [],
   "source": []
  }
 ],
 "metadata": {
  "kernelspec": {
   "display_name": "Python [conda env:fintech] *",
   "language": "python",
   "name": "conda-env-fintech-py"
  },
  "language_info": {
   "codemirror_mode": {
    "name": "ipython",
    "version": 3
   },
   "file_extension": ".py",
   "mimetype": "text/x-python",
   "name": "python",
   "nbconvert_exporter": "python",
   "pygments_lexer": "ipython3",
   "version": "3.7.13"
  }
 },
 "nbformat": 4,
 "nbformat_minor": 5
}
