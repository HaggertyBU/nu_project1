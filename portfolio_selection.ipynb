{
 "cells": [
  {
   "cell_type": "code",
   "execution_count": 31,
   "id": "f17d3efd-51a9-4158-9f55-64c549fcd229",
   "metadata": {},
   "outputs": [],
   "source": [
    "# age (18 - 99)\n",
    "# risk tolerance (0-5)\n",
    "# Emerging tolerance (False/True)\n",
    "# Environmental, Social, and Governance (ESG) (False/True)\n",
    "# International markets (False/True)\n",
    "# REITs (False/True)\n",
    "# Crypto (False/True)\n",
    "# Scared of market crash (Positive/Negative)\n"
   ]
  },
  {
   "cell_type": "code",
   "execution_count": null,
   "id": "f694863f-6914-45e5-ae48-d1e85e48852c",
   "metadata": {},
   "outputs": [],
   "source": []
  },
  {
   "cell_type": "code",
   "execution_count": 160,
   "id": "b74c8ea7-ec97-43fe-aa22-7f07f8266ec2",
   "metadata": {},
   "outputs": [
    {
     "name": "stdout",
     "output_type": "stream",
     "text": [
      "Please Enter Your Age  27\n"
     ]
    }
   ],
   "source": [
    "#Age (18-99)\n",
    "\n",
    "age = input('Please Enter Your Age  ')\n",
    "\n",
    "age = float(age.replace(',',''))"
   ]
  },
  {
   "cell_type": "code",
   "execution_count": 161,
   "id": "03021bd9-b84c-4d88-ae9b-cbf85461bafb",
   "metadata": {},
   "outputs": [
    {
     "name": "stdout",
     "output_type": "stream",
     "text": [
      "Would you like to add Cryptocurrencies in your portfolio?  yes\n"
     ]
    }
   ],
   "source": [
    "# If statement for young people wanting crypto in portfolio - Max allocation 1% of total portfolio \n",
    "if age <= 33:\n",
    "    crypto = input('Would you like to add Cryptocurrencies in your portfolio?  ')\n",
    "        \n",
    "else:\n",
    "    print('Thank you, Lets Continue Building Your Portfolio!  ')\n",
    "     \n",
    "        \n",
    "crypto_allocation = 0.01        "
   ]
  },
  {
   "cell_type": "code",
   "execution_count": 162,
   "id": "1b21eff9",
   "metadata": {},
   "outputs": [
    {
     "name": "stdout",
     "output_type": "stream",
     "text": [
      "What would you do if the market went up 10% in Month 1 and moved down 10% in Month 2? (1 = Sold, 2 = Held Steady, 3 = Bought More, 4 = Bought more and hoped for further declines)  2\n"
     ]
    }
   ],
   "source": [
    "# Risk Tolerance - Need to work on formula \n",
    "risk_tolerance = input('What would you do if the market went up 10% in Month 1 and moved down 10% in Month 2? (1 = Sold, 2 = Held Steady, 3 = Bought More, 4 = Bought more and hoped for further declines)  ')\n",
    "\n",
    "risk_tolerance= float(risk_tolerance.replace(',',''))\n",
    "\n",
    "\n",
    "# 'What would you do if the market went up 10% in Month 1 and move down 10% the next month?\n",
    "# How likely are you to liquidate your portfolio if it increase 10% in Month 1 and move down 10% next month?"
   ]
  },
  {
   "cell_type": "code",
   "execution_count": 163,
   "id": "a86d6ce2",
   "metadata": {},
   "outputs": [
    {
     "data": {
      "text/plain": [
       "0.29"
      ]
     },
     "execution_count": 163,
     "metadata": {},
     "output_type": "execute_result"
    }
   ],
   "source": [
    "# Bond Allocation \n",
    "bond_etf_allocation = (10 * (4 - risk_tolerance) + (age - 18)) / 100\n",
    "\n",
    "bond_etf_allocation"
   ]
  },
  {
   "cell_type": "code",
   "execution_count": 164,
   "id": "e30a2e25",
   "metadata": {},
   "outputs": [
    {
     "data": {
      "text/plain": [
       "0.7"
      ]
     },
     "execution_count": 164,
     "metadata": {},
     "output_type": "execute_result"
    }
   ],
   "source": [
    "# Stock Allocation/Crypto Allocation\n",
    "if crypto == 'yes':\n",
    "    stock_etf_allocation = 1 - bond_etf_allocation - crypto_allocation\n",
    "else:\n",
    "    stock_etf_allocation = 1 - bond_etf_allocation\n",
    "    \n",
    "stock_etf_allocation"
   ]
  },
  {
   "cell_type": "code",
   "execution_count": 165,
   "id": "8f453ffe",
   "metadata": {},
   "outputs": [
    {
     "data": {
      "text/plain": [
       "0.99"
      ]
     },
     "execution_count": 165,
     "metadata": {},
     "output_type": "execute_result"
    }
   ],
   "source": [
    "# portfolio check  \n",
    "portfolio_allocation = stock_etf_allocation + bond_etf_allocation\n",
    "portfolio_allocation"
   ]
  },
  {
   "cell_type": "code",
   "execution_count": 166,
   "id": "2d84c15f",
   "metadata": {},
   "outputs": [
    {
     "name": "stdout",
     "output_type": "stream",
     "text": [
      "Your Final allocation is: Stocks:0.7 Bonds: 0.29 Crypto:0.01\n"
     ]
    }
   ],
   "source": [
    "# Final Allocation \n",
    "\n",
    "if crypto == 'yes':\n",
    "        print(f'Your Final allocation is: Stocks:{stock_etf_allocation} Bonds: {bond_etf_allocation} Crypto:{crypto_allocation}' )\n",
    "else:\n",
    "        print(f'Your Final allocation is Stocks:{stock_etf_allocation} Bonds: {bond_etf_allocation} Crypto: 0' )    "
   ]
  },
  {
   "cell_type": "code",
   "execution_count": 167,
   "id": "d270d438",
   "metadata": {},
   "outputs": [
    {
     "name": "stdout",
     "output_type": "stream",
     "text": [
      "Is it important that the companies you invest in: Take care of its employees, and has environmental and social initiatives?  yes\n"
     ]
    }
   ],
   "source": [
    "# ESG \n",
    "esg = input('Is it important that the companies you invest in: Take care of its employees, and has environmental and social initiatives?  ')"
   ]
  },
  {
   "cell_type": "code",
   "execution_count": 168,
   "id": "b04c3f29",
   "metadata": {},
   "outputs": [
    {
     "name": "stdout",
     "output_type": "stream",
     "text": [
      "Sometimes, having international companies provides diversification benefits to your portfolio but it also entails an economic risk, would you be willing to have international exposure? no\n"
     ]
    }
   ],
   "source": [
    "# International Markets \n",
    "international_mkt = input('Sometimes, having international companies provides diversification benefits to your portfolio but it also entails an economic risk, would you be willing to have international exposure? ')"
   ]
  },
  {
   "cell_type": "code",
   "execution_count": 169,
   "id": "3d8e0973",
   "metadata": {},
   "outputs": [
    {
     "name": "stdout",
     "output_type": "stream",
     "text": [
      "Do you Know What REITS are?no\n",
      "A REIT is a company that owns and typically operates income-producing real estate or related assets. These may include office buildings, shopping malls, apartments, hotels, resorts, self-storage facilities, warehouses, and mortgages or loans. Would you like to add them to your Portfolio? yes\n"
     ]
    }
   ],
   "source": [
    "#REITS \n",
    "\n",
    "reits = input('Do you Know What REITS are?')\n",
    "if reits == 'yes':\n",
    "       reits_add = input('Would you like to add them to your portfolio?  '  )\n",
    "elif reits == 'no':\n",
    "        reits_add = input('A REIT is a company that owns and typically operates income-producing real estate or related assets. These may include office buildings, shopping malls, apartments, hotels, resorts, self-storage facilities, warehouses, and mortgages or loans. Would you like to add them to your Portfolio? ' )"
   ]
  },
  {
   "cell_type": "code",
   "execution_count": 170,
   "id": "8ac779d8",
   "metadata": {},
   "outputs": [
    {
     "name": "stdout",
     "output_type": "stream",
     "text": [
      "What is you economic outlook for the next 5 years? (positive/negative) positive\n",
      "Are you worried about inflation? yes\n"
     ]
    }
   ],
   "source": [
    "# Market Crash \n",
    "\n",
    "outlook = input('What is you economic outlook for the next 5 years? (positive/negative) ' )\n",
    "inflation = input('Are you worried about inflation? ' )"
   ]
  },
  {
   "cell_type": "code",
   "execution_count": null,
   "id": "0159d06a",
   "metadata": {},
   "outputs": [],
   "source": []
  },
  {
   "cell_type": "code",
   "execution_count": null,
   "id": "88fdbb5c",
   "metadata": {},
   "outputs": [],
   "source": []
  },
  {
   "cell_type": "code",
   "execution_count": null,
   "id": "6ad53ccb",
   "metadata": {},
   "outputs": [],
   "source": []
  }
 ],
 "metadata": {
  "kernelspec": {
   "display_name": "Python 3 (ipykernel)",
   "language": "python",
   "name": "python3"
  },
  "language_info": {
   "codemirror_mode": {
    "name": "ipython",
    "version": 3
   },
   "file_extension": ".py",
   "mimetype": "text/x-python",
   "name": "python",
   "nbconvert_exporter": "python",
   "pygments_lexer": "ipython3",
   "version": "3.9.12"
  }
 },
 "nbformat": 4,
 "nbformat_minor": 5
}
